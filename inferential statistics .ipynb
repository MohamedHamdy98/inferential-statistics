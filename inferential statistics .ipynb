{
 "cells": [
  {
   "cell_type": "markdown",
   "id": "9673e2cc",
   "metadata": {},
   "source": [
    "# How to use inferential statistics?"
   ]
  },
  {
   "cell_type": "code",
   "execution_count": 110,
   "id": "1c84d275",
   "metadata": {},
   "outputs": [],
   "source": [
    "import pandas as pd\n",
    "import numpy as np\n",
    "from scipy import stats\n",
    "import matplotlib.pyplot as plt\n",
    "import seaborn as sns\n",
    "import researchpy as rp"
   ]
  },
  {
   "cell_type": "markdown",
   "id": "c271eb1d",
   "metadata": {},
   "source": [
    "## DataSet ---------> Titanic "
   ]
  },
  {
   "cell_type": "code",
   "execution_count": 115,
   "id": "1548c41b",
   "metadata": {},
   "outputs": [
    {
     "data": {
      "text/html": [
       "<div>\n",
       "<style scoped>\n",
       "    .dataframe tbody tr th:only-of-type {\n",
       "        vertical-align: middle;\n",
       "    }\n",
       "\n",
       "    .dataframe tbody tr th {\n",
       "        vertical-align: top;\n",
       "    }\n",
       "\n",
       "    .dataframe thead th {\n",
       "        text-align: right;\n",
       "    }\n",
       "</style>\n",
       "<table border=\"1\" class=\"dataframe\">\n",
       "  <thead>\n",
       "    <tr style=\"text-align: right;\">\n",
       "      <th></th>\n",
       "      <th>PassengerId</th>\n",
       "      <th>Survived</th>\n",
       "      <th>Pclass</th>\n",
       "      <th>Name</th>\n",
       "      <th>Sex</th>\n",
       "      <th>Age</th>\n",
       "      <th>SibSp</th>\n",
       "      <th>Parch</th>\n",
       "      <th>Ticket</th>\n",
       "      <th>Fare</th>\n",
       "      <th>Cabin</th>\n",
       "      <th>Embarked</th>\n",
       "    </tr>\n",
       "  </thead>\n",
       "  <tbody>\n",
       "    <tr>\n",
       "      <th>0</th>\n",
       "      <td>1</td>\n",
       "      <td>0</td>\n",
       "      <td>3</td>\n",
       "      <td>Braund, Mr. Owen Harris</td>\n",
       "      <td>male</td>\n",
       "      <td>22.0</td>\n",
       "      <td>1</td>\n",
       "      <td>0</td>\n",
       "      <td>A/5 21171</td>\n",
       "      <td>7.2500</td>\n",
       "      <td>NaN</td>\n",
       "      <td>S</td>\n",
       "    </tr>\n",
       "    <tr>\n",
       "      <th>1</th>\n",
       "      <td>2</td>\n",
       "      <td>1</td>\n",
       "      <td>1</td>\n",
       "      <td>Cumings, Mrs. John Bradley (Florence Briggs Th...</td>\n",
       "      <td>female</td>\n",
       "      <td>38.0</td>\n",
       "      <td>1</td>\n",
       "      <td>0</td>\n",
       "      <td>PC 17599</td>\n",
       "      <td>71.2833</td>\n",
       "      <td>C85</td>\n",
       "      <td>C</td>\n",
       "    </tr>\n",
       "    <tr>\n",
       "      <th>2</th>\n",
       "      <td>3</td>\n",
       "      <td>1</td>\n",
       "      <td>3</td>\n",
       "      <td>Heikkinen, Miss. Laina</td>\n",
       "      <td>female</td>\n",
       "      <td>26.0</td>\n",
       "      <td>0</td>\n",
       "      <td>0</td>\n",
       "      <td>STON/O2. 3101282</td>\n",
       "      <td>7.9250</td>\n",
       "      <td>NaN</td>\n",
       "      <td>S</td>\n",
       "    </tr>\n",
       "    <tr>\n",
       "      <th>3</th>\n",
       "      <td>4</td>\n",
       "      <td>1</td>\n",
       "      <td>1</td>\n",
       "      <td>Futrelle, Mrs. Jacques Heath (Lily May Peel)</td>\n",
       "      <td>female</td>\n",
       "      <td>35.0</td>\n",
       "      <td>1</td>\n",
       "      <td>0</td>\n",
       "      <td>113803</td>\n",
       "      <td>53.1000</td>\n",
       "      <td>C123</td>\n",
       "      <td>S</td>\n",
       "    </tr>\n",
       "    <tr>\n",
       "      <th>4</th>\n",
       "      <td>5</td>\n",
       "      <td>0</td>\n",
       "      <td>3</td>\n",
       "      <td>Allen, Mr. William Henry</td>\n",
       "      <td>male</td>\n",
       "      <td>35.0</td>\n",
       "      <td>0</td>\n",
       "      <td>0</td>\n",
       "      <td>373450</td>\n",
       "      <td>8.0500</td>\n",
       "      <td>NaN</td>\n",
       "      <td>S</td>\n",
       "    </tr>\n",
       "    <tr>\n",
       "      <th>5</th>\n",
       "      <td>6</td>\n",
       "      <td>0</td>\n",
       "      <td>3</td>\n",
       "      <td>Moran, Mr. James</td>\n",
       "      <td>male</td>\n",
       "      <td>NaN</td>\n",
       "      <td>0</td>\n",
       "      <td>0</td>\n",
       "      <td>330877</td>\n",
       "      <td>8.4583</td>\n",
       "      <td>NaN</td>\n",
       "      <td>Q</td>\n",
       "    </tr>\n",
       "    <tr>\n",
       "      <th>6</th>\n",
       "      <td>7</td>\n",
       "      <td>0</td>\n",
       "      <td>1</td>\n",
       "      <td>McCarthy, Mr. Timothy J</td>\n",
       "      <td>male</td>\n",
       "      <td>54.0</td>\n",
       "      <td>0</td>\n",
       "      <td>0</td>\n",
       "      <td>17463</td>\n",
       "      <td>51.8625</td>\n",
       "      <td>E46</td>\n",
       "      <td>S</td>\n",
       "    </tr>\n",
       "    <tr>\n",
       "      <th>7</th>\n",
       "      <td>8</td>\n",
       "      <td>0</td>\n",
       "      <td>3</td>\n",
       "      <td>Palsson, Master. Gosta Leonard</td>\n",
       "      <td>male</td>\n",
       "      <td>2.0</td>\n",
       "      <td>3</td>\n",
       "      <td>1</td>\n",
       "      <td>349909</td>\n",
       "      <td>21.0750</td>\n",
       "      <td>NaN</td>\n",
       "      <td>S</td>\n",
       "    </tr>\n",
       "    <tr>\n",
       "      <th>8</th>\n",
       "      <td>9</td>\n",
       "      <td>1</td>\n",
       "      <td>3</td>\n",
       "      <td>Johnson, Mrs. Oscar W (Elisabeth Vilhelmina Berg)</td>\n",
       "      <td>female</td>\n",
       "      <td>27.0</td>\n",
       "      <td>0</td>\n",
       "      <td>2</td>\n",
       "      <td>347742</td>\n",
       "      <td>11.1333</td>\n",
       "      <td>NaN</td>\n",
       "      <td>S</td>\n",
       "    </tr>\n",
       "    <tr>\n",
       "      <th>9</th>\n",
       "      <td>10</td>\n",
       "      <td>1</td>\n",
       "      <td>2</td>\n",
       "      <td>Nasser, Mrs. Nicholas (Adele Achem)</td>\n",
       "      <td>female</td>\n",
       "      <td>14.0</td>\n",
       "      <td>1</td>\n",
       "      <td>0</td>\n",
       "      <td>237736</td>\n",
       "      <td>30.0708</td>\n",
       "      <td>NaN</td>\n",
       "      <td>C</td>\n",
       "    </tr>\n",
       "  </tbody>\n",
       "</table>\n",
       "</div>"
      ],
      "text/plain": [
       "   PassengerId  Survived  Pclass  \\\n",
       "0            1         0       3   \n",
       "1            2         1       1   \n",
       "2            3         1       3   \n",
       "3            4         1       1   \n",
       "4            5         0       3   \n",
       "5            6         0       3   \n",
       "6            7         0       1   \n",
       "7            8         0       3   \n",
       "8            9         1       3   \n",
       "9           10         1       2   \n",
       "\n",
       "                                                Name     Sex   Age  SibSp  \\\n",
       "0                            Braund, Mr. Owen Harris    male  22.0      1   \n",
       "1  Cumings, Mrs. John Bradley (Florence Briggs Th...  female  38.0      1   \n",
       "2                             Heikkinen, Miss. Laina  female  26.0      0   \n",
       "3       Futrelle, Mrs. Jacques Heath (Lily May Peel)  female  35.0      1   \n",
       "4                           Allen, Mr. William Henry    male  35.0      0   \n",
       "5                                   Moran, Mr. James    male   NaN      0   \n",
       "6                            McCarthy, Mr. Timothy J    male  54.0      0   \n",
       "7                     Palsson, Master. Gosta Leonard    male   2.0      3   \n",
       "8  Johnson, Mrs. Oscar W (Elisabeth Vilhelmina Berg)  female  27.0      0   \n",
       "9                Nasser, Mrs. Nicholas (Adele Achem)  female  14.0      1   \n",
       "\n",
       "   Parch            Ticket     Fare Cabin Embarked  \n",
       "0      0         A/5 21171   7.2500   NaN        S  \n",
       "1      0          PC 17599  71.2833   C85        C  \n",
       "2      0  STON/O2. 3101282   7.9250   NaN        S  \n",
       "3      0            113803  53.1000  C123        S  \n",
       "4      0            373450   8.0500   NaN        S  \n",
       "5      0            330877   8.4583   NaN        Q  \n",
       "6      0             17463  51.8625   E46        S  \n",
       "7      1            349909  21.0750   NaN        S  \n",
       "8      2            347742  11.1333   NaN        S  \n",
       "9      0            237736  30.0708   NaN        C  "
      ]
     },
     "execution_count": 115,
     "metadata": {},
     "output_type": "execute_result"
    }
   ],
   "source": [
    "data_people_money = pd.read_csv(r'I:\\Python\\dataSet\\ml\\titanic\\train.csv')\n",
    "data = data_people_money.copy()\n",
    "data.head(10)"
   ]
  },
  {
   "cell_type": "markdown",
   "id": "5b0ac167",
   "metadata": {},
   "source": [
    "# Confidence Intervals\n",
    "* A point estimate can give you a rough idea of a population parameter like the mean, but estimates are prone to error and taking multiple samples to get improved estimates may not be feasible. A confidence interval is a range of values above and below a point estimate that captures the true population parameter at some predetermined confidence level. For example, if you want to have a 95% chance of capturing the true population parameter with a point estimate and a corresponding confidence interval, you'd set your confidence level to 95%. Higher confidence levels result in a wider confidence intervals.\n",
    "* For quantitative data"
   ]
  },
  {
   "cell_type": "markdown",
   "id": "f5867f5e",
   "metadata": {},
   "source": [
    "* Check if our data is normal or not by Shapiro"
   ]
  },
  {
   "cell_type": "code",
   "execution_count": 60,
   "id": "dc50c295",
   "metadata": {},
   "outputs": [
    {
     "name": "stdout",
     "output_type": "stream",
     "text": [
      "p=1.000\n",
      "Sample looks Gaussian (fail to reject H0)\n"
     ]
    }
   ],
   "source": [
    "from scipy.stats import shapiro\n",
    "# normality test\n",
    "s, p = shapiro(data['Age'])\n",
    "print('p=%.3f' % (p))\n",
    "# interpret results\n",
    "alpha = 0.05\n",
    "if p > alpha:\n",
    "    print('Sample looks Gaussian (fail to reject H0)')\n",
    "else:\n",
    "    print('Sample does not look Gaussian (reject H0)')"
   ]
  },
  {
   "cell_type": "code",
   "execution_count": 62,
   "id": "48f241f8",
   "metadata": {},
   "outputs": [
    {
     "data": {
      "image/png": "[encoded data removed]",
      "text/plain": [
       "<Figure size 432x288 with 1 Axes>"
      ]
     },
     "metadata": {
      "needs_background": "light"
     },
     "output_type": "display_data"
    }
   ],
   "source": [
    "plt.hist(data['Age'])\n",
    "plt.show()"
   ]
  },
  {
   "cell_type": "markdown",
   "id": "1c384e25",
   "metadata": {},
   "source": [
    "* Take sample from data \n",
    "* calculate the sample mean\n",
    "* If you know std of population then we will use z_test , else: we will use t_test \n",
    "* margin_error_z = z_score * (population_std / sqrt(len(sample)))\n",
    "* margin_error_t = t_score * (sample_std / sqrt(len(sample)))\n",
    "* ci_z = [sample_mean - margin_error_z, sample_mean + margin_error_z]\n",
    "* ci_t = [sample_mean - margin_error_t, sample_mean + margin_error_t]"
   ]
  },
  {
   "cell_type": "code",
   "execution_count": 46,
   "id": "a9caac56",
   "metadata": {},
   "outputs": [
    {
     "data": {
      "text/plain": [
       "29.63888888888889"
      ]
     },
     "execution_count": 46,
     "metadata": {},
     "output_type": "execute_result"
    }
   ],
   "source": [
    "sample = data['Age'].sample(frac=0.5)\n",
    "sample_mean = sample.mean()\n",
    "sample_mean"
   ]
  },
  {
   "cell_type": "code",
   "execution_count": 56,
   "id": "cf68b9a0",
   "metadata": {},
   "outputs": [
    {
     "name": "stdout",
     "output_type": "stream",
     "text": [
      "Z:1.959963984540054, Std:14.516321150817316 and mean:29.69911764705882\n",
      "T:1.965309213413216, Std:14.526497332334042 and mean:29.69911764705882\n"
     ]
    }
   ],
   "source": [
    "z_score = stats.norm.ppf(0.975) # 95% of confidence interval (knowing population std)\n",
    "\n",
    "df = len(sample) - 1 # degree of freedom\n",
    "\n",
    "t_score = stats.t.ppf(0.975, df= df) # 95% of confidence interval (Unknowing population std)\n",
    "\n",
    "std = np.std(data['Age']) # std of population\n",
    "std_sample = np.std(data['Age'], ddof=1) # std of sample\n",
    "\n",
    "mean = np.mean(data['Age']) # mean of population ~= mean of sample\n",
    "\n",
    "print(f'Z:{z_score}, Std:{std} and mean:{mean}')\n",
    "print(f'T:{t_score}, Std:{std_sample} and mean:{mean}')"
   ]
  },
  {
   "cell_type": "code",
   "execution_count": 65,
   "id": "37faf159",
   "metadata": {},
   "outputs": [
    {
     "name": "stdout",
     "output_type": "stream",
     "text": [
      "True mean of population is 29.69911764705882\n",
      "95% of confidence interval of mean is between [28.29167289706021, 30.98610488071757]\n"
     ]
    }
   ],
   "source": [
    "# margin_error_z\n",
    "margin_error = z_score * (std / np.sqrt(len(sample))) \n",
    "ci = [sample_mean - margin_error, sample_mean + margin_error]\n",
    "print(f'True mean of population is {mean}')\n",
    "print(f'95% of confidence interval of mean is between {ci}')"
   ]
  },
  {
   "cell_type": "code",
   "execution_count": 66,
   "id": "cce2461c",
   "metadata": {},
   "outputs": [
    {
     "name": "stdout",
     "output_type": "stream",
     "text": [
      "True mean of population is 29.69911764705882\n",
      "95% of confidence interval of mean is between [28.287051762880203, 30.990726014897575]\n"
     ]
    }
   ],
   "source": [
    "# margin_error_t\n",
    "margin_error = t_score * (std_sample / np.sqrt(len(sample)))\n",
    "ci = [sample_mean - margin_error, sample_mean + margin_error]\n",
    "print(f'True mean of population is {mean}')\n",
    "print(f'95% of confidence interval of mean is between {ci}')"
   ]
  },
  {
   "cell_type": "markdown",
   "id": "d3bb9aa9",
   "metadata": {},
   "source": [
    "* Instead of calculating a confidence interval for a mean point estimate by hand, you can calculate it using the Python function stats.t.interval():"
   ]
  },
  {
   "cell_type": "code",
   "execution_count": 96,
   "id": "d4074e17",
   "metadata": {},
   "outputs": [
    {
     "name": "stdout",
     "output_type": "stream",
     "text": [
      "95% of confidence interval of mean is between (28.287051762880203, 30.990726014897575)\n"
     ]
    }
   ],
   "source": [
    "sigma = (std_sample / np.sqrt(len(sample)))\n",
    "ci = stats.t.interval(alpha=0.95, df=df, loc= sample_mean, scale=sigma)\n",
    "print(f'95% of confidence interval of mean is between {ci}')"
   ]
  },
  {
   "cell_type": "markdown",
   "id": "bde485ac",
   "metadata": {},
   "source": [
    "# Confidence intervals for proportion (One sample)\n",
    "* For qualitative data"
   ]
  },
  {
   "cell_type": "code",
   "execution_count": 71,
   "id": "97925dfd",
   "metadata": {},
   "outputs": [
    {
     "data": {
      "text/plain": [
       "male      0.647587\n",
       "female    0.352413\n",
       "Name: Sex, dtype: float64"
      ]
     },
     "execution_count": 71,
     "metadata": {},
     "output_type": "execute_result"
    }
   ],
   "source": [
    "data['Sex'].value_counts(normalize=True) "
   ]
  },
  {
   "cell_type": "code",
   "execution_count": 94,
   "id": "c7a526f9",
   "metadata": {},
   "outputs": [
    {
     "name": "stdout",
     "output_type": "stream",
     "text": [
      "There is a 95% chance that the true population proportion lies somewhere between  (0.6032510646519731, 0.6919228971886555)\n"
     ]
    }
   ],
   "source": [
    "p = (data['Sex'] == 'male').mean()\n",
    "z_critical = stats.norm.ppf(0.975)\n",
    "n = len(sample)\n",
    "margin_of_error = z_critical * np.sqrt((p*(1-p))/n)\n",
    "\n",
    "confidence_interval = (p - margin_of_error,  # Calculate the the interval\n",
    "                       p + margin_of_error) \n",
    "\n",
    "print(f'There is a 95% chance that the true population proportion lies somewhere between  {confidence_interval}')"
   ]
  },
  {
   "cell_type": "markdown",
   "id": "d0afaa91",
   "metadata": {},
   "source": [
    "* Instead of calculating a confidence interval for proportion by hand, you can calculate it using the Python function stats.norm.interval():"
   ]
  },
  {
   "cell_type": "code",
   "execution_count": 93,
   "id": "02480eb0",
   "metadata": {},
   "outputs": [
    {
     "name": "stdout",
     "output_type": "stream",
     "text": [
      "There is a 95% chance that the true population proportion lies somewhere between  (0.6032510646519731, 0.6919228971886555)\n"
     ]
    }
   ],
   "source": [
    "confidence_interval = stats.norm.interval(alpha = 0.95,    # Confidence level             \n",
    "                   loc =  p,     # Point estimate of proportion\n",
    "                   scale = np.sqrt((p*(1-p))/n))  # Scaling factor\n",
    "print(f'There is a 95% chance that the true population proportion lies somewhere between  {confidence_interval}')"
   ]
  },
  {
   "cell_type": "markdown",
   "id": "2ab74a5d",
   "metadata": {},
   "source": [
    "#  Confidence intervals for proportion (Two sample) "
   ]
  },
  {
   "cell_type": "markdown",
   "id": "6d7cc620",
   "metadata": {},
   "source": [
    "* confidence_interval = p1 - p2 +- z * sqrt((p1 * (1 - p1) / n1) + (p2 * (1 - p2) / n2))"
   ]
  },
  {
   "cell_type": "code",
   "execution_count": 90,
   "id": "b4199f77",
   "metadata": {},
   "outputs": [
    {
     "name": "stdout",
     "output_type": "stream",
     "text": [
      "There is a 95% chance that the true population proportion lies somewhere between [0.25631487092525507, 0.33403305275600204]\n"
     ]
    }
   ],
   "source": [
    "p1 = (data['Sex'] == 'male').mean()\n",
    "p2 = (data['Sex'] == 'female').mean()\n",
    "\n",
    "n1 = (data['Sex'] == 'male').count()\n",
    "n2 = (data['Sex'] == 'female').count()\n",
    "\n",
    "p_diff = p1 - p2\n",
    "z = stats.norm.ppf(0.957)\n",
    "\n",
    "margin_error = z * np.sqrt( ((p1 * (1 - p1)) / n1) + ((p2 * (1 - p2)) / n2) )\n",
    "ci = [p_diff - margin_error, p_diff + margin_error]\n",
    "print(f'There is a 95% chance that the true population proportion lies somewhere between {ci}')"
   ]
  },
  {
   "cell_type": "markdown",
   "id": "53b6874a",
   "metadata": {},
   "source": [
    "# Hypothesis testing"
   ]
  },
  {
   "cell_type": "markdown",
   "id": "fcec180c",
   "metadata": {},
   "source": [
    "## T_Test for One Sample\n",
    "* Step by Step"
   ]
  },
  {
   "cell_type": "code",
   "execution_count": 281,
   "id": "001a179b",
   "metadata": {},
   "outputs": [
    {
     "name": "stdout",
     "output_type": "stream",
     "text": [
      "t_test is 0.14902356499528882 and p_value is 0.8816103289444732\n",
      "Fail to Reject H0, the sample_mean is the same of pop_mean\n"
     ]
    }
   ],
   "source": [
    "alpha = 0.05\n",
    "\n",
    "d = data[['Age', 'Fare']].dropna()\n",
    "pop_mean = d['Age'].mean()\n",
    "std_pop = d['Age'].std()\n",
    "\n",
    "sample = d['Age'].sample(n=400)\n",
    "sample_mean = sample.mean()\n",
    "std_sample =  np.std(sample)\n",
    "\n",
    "t_test = (sample_mean - pop_mean) / (std_sample / np.sqrt(len(sample)))\n",
    "p_value = 2 * (1 - stats.t.cdf(t_test, df = len(sample) - 1))\n",
    "\n",
    "print(f't_test is {t_test} and p_value is {p_value}')\n",
    "      \n",
    "if p_value <= alpha:\n",
    "    print('Reject H0, the sample_mean is not the same of pop_mean')\n",
    "else:\n",
    "    print('Fail to Reject H0, the sample_mean is the same of pop_mean')    "
   ]
  },
  {
   "cell_type": "markdown",
   "id": "9ecb158a",
   "metadata": {},
   "source": [
    "* Using the Method"
   ]
  },
  {
   "cell_type": "code",
   "execution_count": 282,
   "id": "b6a81315",
   "metadata": {},
   "outputs": [
    {
     "data": {
      "text/plain": [
       "Ttest_1sampResult(statistic=0.14883716896862595, pvalue=0.8817573150486813)"
      ]
     },
     "execution_count": 282,
     "metadata": {},
     "output_type": "execute_result"
    }
   ],
   "source": [
    "t = stats.ttest_1samp(a = sample, popmean= pop_mean)\n",
    "t"
   ]
  },
  {
   "cell_type": "markdown",
   "id": "3bd130d1",
   "metadata": {},
   "source": [
    "## T_Test for Two Sample\n",
    "* Step by Step"
   ]
  },
  {
   "cell_type": "code",
   "execution_count": 367,
   "id": "bf51b39d",
   "metadata": {},
   "outputs": [
    {
     "name": "stdout",
     "output_type": "stream",
     "text": [
      "t_test is -2.6483258716414158 and p_value is 0.008248932340833015\n",
      "Reject H0, the sample_mean 1 is not the same of sample_mean 2 \n"
     ]
    }
   ],
   "source": [
    "alpha = 0.05\n",
    "\n",
    "d = data[['Age', 'Fare']].dropna()\n",
    "\n",
    "# sample 1\n",
    "sample_age = d['Age'].sample(n=400)\n",
    "sample_age_mean = sample_age.mean()\n",
    "sample_age_std = sample_age.std()\n",
    "sample_age_size = len(sample_age)\n",
    "\n",
    "# sample 2\n",
    "sample_fare = d['Fare'].sample(n=400)\n",
    "sample_fare_mean = sample_fare.mean()\n",
    "sample_fare_std = sample_fare.std()\n",
    "sample_fare_size = len(sample_fare)\n",
    "\n",
    "df = (sample_age_size + sample_fare_size) - 2\n",
    "numerator = sample_age_mean - sample_fare_mean\n",
    "denominator = np.sqrt((sample_age_std**2 / sample_age_size) + (sample_fare_std**2 / sample_fare_size))\n",
    "\n",
    "t_test = numerator / denominator\n",
    "p_value = 2 * (1 - stats.t.cdf(abs(t_test), df = df))\n",
    "print(f't_test is {t_test} and p_value is {p_value}')\n",
    "\n",
    "if p_value <= alpha:\n",
    "    print('Reject H0, the sample_mean 1 is not the same of sample_mean 2 ')\n",
    "else:\n",
    "    print('Fail to Reject H0, the sample_mean 1 is the same of sample_mean 2 ')    "
   ]
  },
  {
   "cell_type": "markdown",
   "id": "a1ee4a1b",
   "metadata": {},
   "source": [
    "* Using the Method"
   ]
  },
  {
   "cell_type": "code",
   "execution_count": 368,
   "id": "a55a8875",
   "metadata": {},
   "outputs": [
    {
     "data": {
      "text/plain": [
       "Ttest_indResult(statistic=-2.6483258716414153, pvalue=0.008373252445366198)"
      ]
     },
     "execution_count": 368,
     "metadata": {},
     "output_type": "execute_result"
    }
   ],
   "source": [
    "t = stats.ttest_ind(a = sample_age, b = sample_fare, equal_var = False)\n",
    "t"
   ]
  },
  {
   "cell_type": "markdown",
   "id": "e4cb8dc8",
   "metadata": {},
   "source": [
    "## Confidence interval for 2 sample"
   ]
  },
  {
   "cell_type": "code",
   "execution_count": 369,
   "id": "ce6c35ac",
   "metadata": {},
   "outputs": [
    {
     "data": {
      "text/plain": [
       "(-13.610566430028435, -2.0229740699715597)"
      ]
     },
     "execution_count": 369,
     "metadata": {},
     "output_type": "execute_result"
    }
   ],
   "source": [
    "ci = stats.t.interval(alpha=1 - alpha, df=df, loc= numerator, scale=denominator)\n",
    "ci"
   ]
  },
  {
   "cell_type": "markdown",
   "id": "2d0fe49c",
   "metadata": {},
   "source": [
    "## Paired Test\n",
    "* It is used when the samples are paired. For example, we are experimenting with a new exercise on people and we took samples of after and before effects of the exercise. Now we want to find out whether this exercise is beneficial or not. We will use paired t-tests to find out the differences because the samples are connected.\n",
    "* H0 : There is no change after the tuition (x̄1= x̄2)\n",
    "* H1 : There is a change after the tuition (x̄1!= x̄2)"
   ]
  },
  {
   "cell_type": "code",
   "execution_count": 370,
   "id": "e1320dec",
   "metadata": {},
   "outputs": [],
   "source": [
    "# create data and add it on main data\n",
    "befor = stats.norm.rvs(scale=30, loc=250, size=714)\n",
    "after = befor + stats.norm.rvs(scale=5, loc=-1.25, size=714)\n",
    "d['before'] = befor\n",
    "d['after'] = after"
   ]
  },
  {
   "cell_type": "code",
   "execution_count": 371,
   "id": "800e75bd",
   "metadata": {},
   "outputs": [
    {
     "data": {
      "text/html": [
       "<div>\n",
       "<style scoped>\n",
       "    .dataframe tbody tr th:only-of-type {\n",
       "        vertical-align: middle;\n",
       "    }\n",
       "\n",
       "    .dataframe tbody tr th {\n",
       "        vertical-align: top;\n",
       "    }\n",
       "\n",
       "    .dataframe thead th {\n",
       "        text-align: right;\n",
       "    }\n",
       "</style>\n",
       "<table border=\"1\" class=\"dataframe\">\n",
       "  <thead>\n",
       "    <tr style=\"text-align: right;\">\n",
       "      <th></th>\n",
       "      <th>Age</th>\n",
       "      <th>Fare</th>\n",
       "      <th>before</th>\n",
       "      <th>after</th>\n",
       "    </tr>\n",
       "  </thead>\n",
       "  <tbody>\n",
       "    <tr>\n",
       "      <th>0</th>\n",
       "      <td>22.0</td>\n",
       "      <td>7.2500</td>\n",
       "      <td>225.931377</td>\n",
       "      <td>223.047269</td>\n",
       "    </tr>\n",
       "    <tr>\n",
       "      <th>1</th>\n",
       "      <td>38.0</td>\n",
       "      <td>71.2833</td>\n",
       "      <td>237.780796</td>\n",
       "      <td>235.098087</td>\n",
       "    </tr>\n",
       "    <tr>\n",
       "      <th>2</th>\n",
       "      <td>26.0</td>\n",
       "      <td>7.9250</td>\n",
       "      <td>260.259776</td>\n",
       "      <td>263.331358</td>\n",
       "    </tr>\n",
       "    <tr>\n",
       "      <th>3</th>\n",
       "      <td>35.0</td>\n",
       "      <td>53.1000</td>\n",
       "      <td>320.295769</td>\n",
       "      <td>312.530929</td>\n",
       "    </tr>\n",
       "    <tr>\n",
       "      <th>4</th>\n",
       "      <td>35.0</td>\n",
       "      <td>8.0500</td>\n",
       "      <td>212.922570</td>\n",
       "      <td>205.618260</td>\n",
       "    </tr>\n",
       "  </tbody>\n",
       "</table>\n",
       "</div>"
      ],
      "text/plain": [
       "    Age     Fare      before       after\n",
       "0  22.0   7.2500  225.931377  223.047269\n",
       "1  38.0  71.2833  237.780796  235.098087\n",
       "2  26.0   7.9250  260.259776  263.331358\n",
       "3  35.0  53.1000  320.295769  312.530929\n",
       "4  35.0   8.0500  212.922570  205.618260"
      ]
     },
     "execution_count": 371,
     "metadata": {},
     "output_type": "execute_result"
    }
   ],
   "source": [
    "d.head()"
   ]
  },
  {
   "cell_type": "code",
   "execution_count": 372,
   "id": "d00684b7",
   "metadata": {},
   "outputs": [
    {
     "name": "stdout",
     "output_type": "stream",
     "text": [
      "Reject H0, There is change after the tuition\n"
     ]
    }
   ],
   "source": [
    "alpha = 0.05\n",
    "t, p_value = stats.ttest_rel(a = d['before'], b = d['after'])\n",
    "if p_value <= alpha:\n",
    "    print('Reject H0, There is change after the tuition')\n",
    "else:\n",
    "    print('Fail to Reject H0, There is no change after the tuition')  "
   ]
  },
  {
   "cell_type": "markdown",
   "id": "b7531ca1",
   "metadata": {},
   "source": [
    "## ANOVA...\n",
    "* Testing for difference between groups for numerical values"
   ]
  },
  {
   "cell_type": "code",
   "execution_count": null,
   "id": "4b6d200e",
   "metadata": {},
   "outputs": [],
   "source": []
  },
  {
   "cell_type": "markdown",
   "id": "b2394d64",
   "metadata": {},
   "source": [
    "## Chi_squared\n",
    "* Testing for relationships between categorical variables"
   ]
  },
  {
   "cell_type": "code",
   "execution_count": null,
   "id": "d328bcc1",
   "metadata": {},
   "outputs": [],
   "source": []
  }
 ],
 "metadata": {
  "kernelspec": {
   "display_name": "Python 3 (ipykernel)",
   "language": "python",
   "name": "python3"
  },
  "language_info": {
   "codemirror_mode": {
    "name": "ipython",
    "version": 3
   },
   "file_extension": ".py",
   "mimetype": "text/x-python",
   "name": "python",
   "nbconvert_exporter": "python",
   "pygments_lexer": "ipython3",
   "version": "3.8.13"
  }
 },
 "nbformat": 4,
 "nbformat_minor": 5
}
